{
 "nbformat": 4,
 "nbformat_minor": 2,
 "metadata": {
  "language_info": {
   "name": "python",
   "codemirror_mode": {
    "name": "ipython",
    "version": 3
   },
   "version": "3.7.6-final"
  },
  "orig_nbformat": 2,
  "file_extension": ".py",
  "mimetype": "text/x-python",
  "name": "python",
  "npconvert_exporter": "python",
  "pygments_lexer": "ipython3",
  "version": 3,
  "kernelspec": {
   "name": "python37664bitmatlabcondaab9d674257eb4ef1862a62dd9f32fa95",
   "display_name": "Python 3.7.6 64-bit ('matlab': conda)"
  }
 },
 "cells": [
  {
   "cell_type": "markdown",
   "execution_count": null,
   "metadata": {},
   "outputs": [],
   "source": [
    "# IERG3300 Introduction to Stochastic Process\n",
    "---\n",
    "## Tutorial 1 (Delivered by Ceyuan YANG)\n",
    "Date: 16th Jan 2020\n",
    "\n",
    "Materials comes from Tutorial slides by Ceyuan YANG.\n"
   ]
  },
  {
   "cell_type": "markdown",
   "execution_count": null,
   "metadata": {},
   "outputs": [],
   "source": [
    "### Example 1\n",
    "In the Dark Ages, Harvard, Dartmouth, and Yale admitted only male students. Assume that, at that time, 80 percent of the sons of Harvard men went to Harvard and the rest went to Yale, 40 percent of the sons of Yale men went to Yale, and the rest split evenly between Harvard and Dartmouth; and of the sons of Dartmouth men, 70 percent went to Dartmouth, 20 percent to Harvard, and 10 percent to Yale. \n",
    "\n",
    "(a) Find the probability that the grandson of a man from Harvard went to Harvard. \n",
    "\n",
    "(b) Modify the above by assuming that the son of a Harvard man always went to Harvard. Again, find the probability that the grandson of a man from Harvard went to Harvard.\n"
   ]
  },
  {
   "cell_type": "markdown",
   "execution_count": null,
   "metadata": {},
   "outputs": [],
   "source": [
    "#### Solution\n",
    "State space $ S=\\{H, D, Y\\}$. We need to figure out the transition probability matrix.\n",
    "\n",
    "The $ij$th entry of the matrix ${P}^n$ gives the prob that starting in state $i$ will be in state $j$ after $n$ steps."
   ]
  },
  {
   "cell_type": "code",
   "execution_count": 110,
   "metadata": {},
   "outputs": [
    {
     "name": "stdout",
     "output_type": "stream",
     "text": "[[0.8 0.  0.2]\n [0.2 0.7 0.1]\n [0.3 0.3 0.4]]\n[[0.7  0.06 0.24]\n [0.33 0.52 0.15]\n [0.42 0.33 0.25]]\n"
    }
   ],
   "source": [
    "import numpy as np\n",
    "p=np.array([[0.8,0.0,0.2],[0.2,0.7,0.1],[0.3,0.3,0.4]])\n",
    "print(p)\n",
    "p_2=p.dot(p)\n",
    "print(p_2)"
   ]
  },
  {
   "cell_type": "code",
   "execution_count": 111,
   "metadata": {},
   "outputs": [
    {
     "name": "stdout",
     "output_type": "stream",
     "text": "[[1.   0.   0.  ]\n [0.37 0.52 0.11]\n [0.48 0.33 0.19]]\n"
    }
   ],
   "source": [
    "import numpy as np\n",
    "p=np.array([[1.0,0.0,0.0],[0.2,0.7,0.1],[0.3,0.3,0.4]])\n",
    "p_2=p.dot(p)\n",
    "print(p_2)"
   ]
  },
  {
   "cell_type": "markdown",
   "execution_count": null,
   "metadata": {},
   "outputs": [],
   "source": [
    "### Example 2\n",
    "A certain calculating machine uses only the digits 0 and 1. It is supposed to transmit one of these digits through several stages. However, at every stage, there is a probability p that the digit that enters this stage will be changed when it leaves and a probability q = 1 − p that it won’t. Form a Markov chain to represent the process of transmission by taking as states the digits 0 and 1. What is the matrix of transition probabilities? Now draw a tree and assign probabilities assuming that the process begins in state 0 and moves through two stages of transmission. What is the probability that the machine, after two stages, produces the digit 0 (i.e., the correct digit)?\n",
    "\n",
    "> *Borrowed from the exercises of  Statistics 150: Stochastic Processes, Department of Statistics, University of California, Berkeley.*"
   ]
  },
  {
   "cell_type": "markdown",
   "execution_count": null,
   "metadata": {},
   "outputs": [],
   "source": [
    "#### Solution\n",
    "Taking as states the digits 0 and 1 we identify the following Markov chain (by specifying states and transition probabilites):\n",
    "$$\n",
    "    \\begin{array}{ccc}\n",
    "        & 0 & 1 \\\\\n",
    "        0 & q & p \\\\\n",
    "        1 & p & q\n",
    "    \\end{array}\\ ,\n",
    "$$\n",
    "where $p+q=1$. Thus, the transition matrix is as follows:\n",
    "$$ \n",
    "P= \n",
    "\\begin{bmatrix}\n",
    "    q & p \\\\\n",
    "    p & q\n",
    "\\end{bmatrix} = \n",
    "\\begin{bmatrix}\n",
    "1-p & p \\\\\n",
    "p & 1-p\n",
    "\\end{bmatrix} = \n",
    "\\begin{bmatrix}\n",
    "q & 1-q \\\\\n",
    "1-q & q \n",
    "\\end{bmatrix}\\ .\n",
    "$$\n",
    "It is clear that the probability that the machine will produce 0 if it starts with 0 is $p^2+q^2$."
   ]
  },
  {
   "cell_type": "markdown",
   "execution_count": null,
   "metadata": {},
   "outputs": [],
   "source": [
    "### Example 3\n",
    "Discuss the topological properties of the graphs of the following Markov chains. Is that irreducible? What is the periodicity of each state?\n",
    "$$ \n",
    "\\text{(a).} \n",
    "\\begin{bmatrix}\n",
    "0.5 & 0.5 \\\\\n",
    "0.5 & 0.5\n",
    "\\end{bmatrix},\\ \n",
    "\\text{(b).}\n",
    "\\begin{bmatrix}\n",
    "0.5 & 0.5 \\\\\n",
    "1 & 0\n",
    "\\end{bmatrix},\\ \n",
    "\\text{(c).}\n",
    "\\begin{bmatrix}\n",
    "\\frac{1}{3} & 0 & \\frac{2}{3} \\\\\n",
    "0 & 1 & 0 \\\\\n",
    "0 & \\frac{1}{5} & \\frac{4}{5}\n",
    "\\end{bmatrix},\\ \n",
    "\\text{(d).}\n",
    "\\begin{bmatrix}\n",
    "0 & 1 \\\\\n",
    "1 & 0\n",
    "\\end{bmatrix},\\ \n",
    "\\text{(e).}\n",
    "\\begin{bmatrix}\n",
    "\\frac{1}{2} & \\frac{1}{2} & 0 \\\\\n",
    "0 & \\frac{1}{2} & \\frac{1}{2} \\\\\n",
    "\\frac{1}{3} & \\frac{1}{3} & \\frac{1}{3}\n",
    "\\end{bmatrix}.\n",
    "$$"
   ]
  },
  {
   "cell_type": "markdown",
   "execution_count": null,
   "metadata": {},
   "outputs": [],
   "source": [
    "#### Solution\n",
    "Firstly, we can draw the state diagram for the given Markov chain according to its transition matrix.\n",
    "\n",
    "Irreducible: Judging from the definition\n",
    ">  A Markov chain is said to be irreducible if it is possible to get to any state from any state.\n",
    "\n",
    "Periodicity:\n",
    "> Find the gcd (Greatest Common Divisor) of all integers $t \\geq 1 \\ s.t. \\ P_{i,i}^{(t)} >0$. \n",
    "\n",
    "(a) Irreducible.\n",
    "\n",
    "(b) Irreducible.\n",
    "\n",
    "(c) Starting from state 2 remains at 2 forever.\n",
    "\n",
    "(d) Irreducible.\n",
    "\n",
    "(e) Irreducible."
   ]
  },
  {
   "cell_type": "markdown",
   "execution_count": null,
   "metadata": {},
   "outputs": [],
   "source": [
    "### Example 4\n",
    "Smith is in jail and has 3 dollars; he can get out on jail if he has 8 dollars. A guard agrees to make a series of bets with him. If Smith bets A dollars, he wins A dollars with probability 0.4 and loses A dollars with probability 0.6. \n",
    "\n",
    "(a) Find the probability that he wins 8 dollars before losing all of his money if he bets 1 dollar each time (timid strategy). \n",
    "\n",
    "(b) he bets, each time, as much as possible but not more than necessary to bring his fortune up to 8 dollars (bold strategy). \n",
    "\n",
    "(c) Which strategy gives Smith the better chance of getting out of jail?\n",
    "\n"
   ]
  },
  {
   "cell_type": "markdown",
   "execution_count": null,
   "metadata": {},
   "outputs": [],
   "source": [
    "#### Solution\n",
    "We model this problem as a Markov chain and draw the diagram of this Markov chain.\n",
    "\n",
    "*Detailed diagram can be found in the tutorial slide 8 & 10.* [*LINK*(access via CUHK Network)](https://course.ie.cuhk.edu.hk/~ierg3300/IERG3300Tutorial1.pptx) \n",
    "\n",
    "(a) Let $\\varphi(i)$ be the probability that the chain reaches states 8 before reaching state 0, starting from state $i$. In other words, if $S_j$ is the first $n \\geq 0$ such $X_n=j$, \n",
    "$$\n",
    "\\varphi(i)=P_i(S_8<S_0)=P(S_8<S_0|X_0=i). \n",
    "$$\n",
    "Then, we can get this system of linear equations\n",
    "$$\n",
    "\\begin{align*}\n",
    "\\varphi(i)&=0.4\\varphi(i+1)+0.6\\varphi(i-1),\\ i=1,2,3,4,5,6,7 \\\\\n",
    "\\varphi(0)&=0 \\\\\n",
    "\\varphi(8)&=1.\n",
    "\\end{align*}\n",
    "$$\n",
    "Solving this system of linear equations,"
   ]
  },
  {
   "cell_type": "code",
   "execution_count": 139,
   "metadata": {},
   "outputs": [
    {
     "name": "stdout",
     "output_type": "stream",
     "text": "[0.         0.02030135 0.05075337 0.0964314  0.16494845 0.26772403\n 0.42188739 0.65313243 1.        ]\n"
    }
   ],
   "source": [
    "import numpy as np\n",
    "A=np.array([[1.0,0.0,0.0,0.0,0.0,0.0,0.0,0.0,0.0],[-0.6,1.0,-0.4,0.0,0.0,0.0,0.0,0.0,0.0],[0.0,-0.6,1.0,-0.4,0.0,0.0,0.0,0.0,0.0],[0,0,-0.6,1,-0.4,0,0,0,0],[0,0,0,-0.6,1,-0.4,0,0,0],[0,0,0,0,-0.6,1,-0.4,0,0],[0,0,0,0,0,-0.6,1,-0.4,0],[0,0,0,0,0,0,-0.6,1,-0.4],[0,0,0,0,0,0,0,0,1]])\n",
    "B=np.array([0,0,0,0,0,0,0,0,1])\n",
    "A_inv=np.linalg.inv(A)\n",
    "X=np.dot(A_inv,B)\n",
    "print(X)"
   ]
  },
  {
   "cell_type": "markdown",
   "execution_count": null,
   "metadata": {},
   "outputs": [],
   "source": [
    "We find that\n",
    "$$ \n",
    "\\begin{align*}\n",
    "\\varphi &=(\\varphi(1), \\varphi(2), \\varphi(3), \\varphi(4), \\varphi(5), \\varphi(6), \\varphi(7))\\\\\n",
    "        &=(0.0203, 0.0508, 0.0964, 0.1649, 0.2677, 0.4219, 0.6531)\n",
    "\\end{align*}\n",
    "$$\n",
    "$\\varphi(i)$ is increasing in $i$, which was expected."
   ]
  },
  {
   "cell_type": "markdown",
   "execution_count": null,
   "metadata": {},
   "outputs": [],
   "source": [
    "(b) Now the bold strategy is used, the Markov chain and the system of linear equations also change accordingly.\n",
    "$$\n",
    "\\begin{align*}\n",
    "\\varphi(3)&=0.4\\varphi(6)+0.6\\varphi(0)\\\\\n",
    "\\varphi(6)&=0.4\\varphi(8)+0.6\\varphi(4)\\\\\n",
    "\\varphi(4)&=0.4\\varphi(8)+0.6\\varphi(0)\\\\\n",
    "\\varphi(0)&=0\\\\\n",
    "\\varphi(8)&=1.\n",
    "\\end{align*}\n",
    "$$\n",
    "Solving this system of linear equations,"
   ]
  },
  {
   "cell_type": "code",
   "execution_count": 140,
   "metadata": {},
   "outputs": [
    {
     "name": "stdout",
     "output_type": "stream",
     "text": "[0.    0.256 0.4   0.64  1.   ]\n"
    }
   ],
   "source": [
    "import numpy as np\n",
    "A=np.array([[1,0,0,0,0],[-0.6,1,0,-0.4,0],[-0.6,0,1,0,-0.4],[0,0,-0.6,1,-0.4],[0,0,0,0,1]])\n",
    "B=np.array([0,0,0,0,1])\n",
    "A_inv=np.linalg.inv(A)\n",
    "X=np.dot(A_inv,B)\n",
    "print(X)"
   ]
  },
  {
   "cell_type": "markdown",
   "execution_count": null,
   "metadata": {},
   "outputs": [],
   "source": [
    "We find that \n",
    "$$\n",
    "\\begin{align*}\n",
    "\\varphi &= (\\varphi(3), \\varphi(4), \\varphi(6))\\\\\n",
    "        &=(0.256, 0.4, 0.64)\n",
    "\\end{align*}\\ .\n",
    "$$\n",
    "The following part is a simple numerical simulation for the above results."
   ]
  },
  {
   "cell_type": "code",
   "execution_count": 141,
   "metadata": {},
   "outputs": [
    {
     "name": "stdout",
     "output_type": "stream",
     "text": "0.09725\n"
    }
   ],
   "source": [
    "import numpy\n",
    "from random import random\n",
    "from random import seed\n",
    "cash=3 #starting cash = 3\n",
    "wintime=0\n",
    "# bet =1 is for subquestion (a)\n",
    "bet=1 \n",
    "# uncomment the following section for subquestion (b)\n",
    "#if 8-cash>cash:\n",
    "#   bet=cash\n",
    "#else:\n",
    "#   bet=8-cash\n",
    "for x in range(100000):\n",
    "    while cash>0:\n",
    "        result=random()\n",
    "        if result>0.60:\n",
    "            cash=cash+bet\n",
    "        else:\n",
    "            cash=cash-bet\n",
    "        if cash >= 8:\n",
    "            #print(\"You win!\")\n",
    "            wintime=wintime+1\n",
    "            #print(wintime)\n",
    "            break\n",
    "    cash=3\n",
    "prob=wintime/100000\n",
    "print(prob)"
   ]
  }
 ]
}