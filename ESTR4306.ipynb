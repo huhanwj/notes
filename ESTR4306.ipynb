{
 "nbformat": 4,
 "nbformat_minor": 2,
 "metadata": {
  "language_info": {
   "name": "python",
   "codemirror_mode": {
    "name": "ipython",
    "version": 3
   }
  },
  "orig_nbformat": 2,
  "file_extension": ".py",
  "mimetype": "text/x-python",
  "name": "python",
  "npconvert_exporter": "python",
  "pygments_lexer": "ipython3",
  "version": 3
 },
 "cells": [
  {
   "cell_type": "code",
   "execution_count": null,
   "metadata": {},
   "outputs": [],
   "source": []
  },
  {
   "cell_type": "markdown",
   "execution_count": null,
   "metadata": {},
   "outputs": [],
   "source": [
    "# IERG4130/ESTR4306 Introduction to Cyber Security\n",
    "---\n",
    "## Lab Environment (Running OS: Windows 10 Pro Version 19041.1)\n",
    "Seed Ubuntu 16.04 LTS 32bit via VMware Workstation 15.5.1\n",
    "\n",
    "[*Download Link*](https://seedsecuritylabs.org/lab_env.html)\n",
    "\n",
    "[*Configuring document*](https://seedsecuritylabs.org/Labs_16.04/Documents/SEEDVM_VirtualBoxManual.pdf)\n",
    "\n",
    "* Note that this document is for VirtualBox 6.0.4 configuration.\n",
    "\n",
    "* VirtualBox 6.0.4 is recommended as latest version may encouter some bugs.\n",
    "\n",
    "* VMware Workstation 15.5.1 seems to work well with this Ubuntu.\n",
    "\n",
    "* No NTP service for this system, you may need to setup by yourself.\n",
    "   > simple bash commands\n",
    "\n",
    "   > `sudo timedatectl set-timezone Asia/Hong_Kong` set the timezone to Hong Hong Kong\n",
    "\n",
    "   > `sudo timedatectl set-ntp on` turn on ntp service for time\n",
    "\n",
    "   > Notice that it's very likely that ntp is not installed, using `sudo apt-get install ntp` to install it.\n",
    "\n",
    "   > Then modify the configuration file of ntp via `sudo vi /etc/ntp.conf`, adding `server ntp.cuhk.edu.hk` to where it should be (easy to find)\n",
    "\n",
    "   > Restart ntp service `sudo service ntp restart`\n",
    "\n",
    "**The accout information**\n",
    "\n",
    "Normal User\n",
    "   * User: seed\n",
    "   * Password: dees\n",
    "   \n",
    "Root User\n",
    "   * User: root\n",
    "   * Password: seedbuntu\n",
    "---\n",
    "## Tutorial 1\n",
    "Phishing example happened in CU@LINK email system."
   ]
  }
 ]
}